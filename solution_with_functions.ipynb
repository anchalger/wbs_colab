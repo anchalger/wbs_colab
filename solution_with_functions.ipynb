{
 "cells": [
  {
   "cell_type": "code",
   "execution_count": 1,
   "metadata": {},
   "outputs": [],
   "source": [
    "import requests\n",
    "import json\n",
    "import pandas as pd\n",
    "\n",
    "from datetime import datetime, timedelta\n",
    "import sqlalchemy"
   ]
  },
  {
   "cell_type": "code",
   "execution_count": 2,
   "metadata": {},
   "outputs": [],
   "source": [
    "def get_weather(city):\n",
    "    APIKey = '6b85c8e338c78a1d06d8155b22c223ef'\n",
    "    \n",
    "    url = f\"http://api.openweathermap.org/data/2.5/forecast?q={city}&appid={APIKey}&units=metric\"\n",
    "    response = requests.get(url)\n",
    "\n",
    "    weather = response.json()['list']\n",
    "    weather = pd.json_normalize(weather)\n",
    "\n",
    "    weather = weather[['dt_txt', 'pop', 'main.temp', 'wind.speed']]\n",
    "    weather['dt_txt'] = pd.to_datetime(weather['dt_txt'])\n",
    "\n",
    "    weather.columns = ['time_weather', 'pop', 'temp', 'wind_s']\n",
    "    \n",
    "    weather['pop'] = pd.to_numeric(weather['pop'])\n",
    "    weather['temp'] = pd.to_numeric(weather['temp'])\n",
    "    weather['wind_s'] = pd.to_numeric(weather['wind_s'])\n",
    "\n",
    "    tomorrow = datetime.now().date() + timedelta(days=1)\n",
    "    thedayafter = datetime.now().date() + timedelta(days=2)\n",
    "\n",
    "    weather = weather.loc[weather['time_weather'] > str(tomorrow)]\n",
    "    weather = weather.loc[weather['time_weather'] < str(thedayafter)]\n",
    "    \n",
    "    weather = weather.max()\n",
    "\n",
    "    weather = weather.to_frame().transpose()\n",
    "    weather['pop'] = pd.to_numeric(weather['pop'])\n",
    "    weather['temp'] = pd.to_numeric(weather['temp'])\n",
    "    weather['wind_s'] = pd.to_numeric(weather['wind_s'])\n",
    "    weather['time_weather'] = pd.to_datetime(weather['time_weather'])\n",
    "    \n",
    "    return weather"
   ]
  },
  {
   "cell_type": "code",
   "execution_count": 17,
   "metadata": {},
   "outputs": [],
   "source": [
    "def get_arrivals(icao):\n",
    "    tomorrow = datetime.now().date() + timedelta(days=1)\n",
    "\n",
    "    url = \"https://aerodatabox.p.rapidapi.com/flights/airports/icao/\"+icao+\"/\"+str(tomorrow)+\"T08:00/\"+str(tomorrow)+\"T20:00\"\n",
    "    querystring = {\"withLeg\":\"true\",\"direction\":\"Arrival\",\"withCancelled\":\"false\",\"withCodeshared\":\"false\",\"withCargo\":\"false\",\"withPrivate\":\"false\",\"withLocation\":\"false\"}\n",
    "\n",
    "    headers = {\n",
    "        \"X-RapidAPI-Key\": \"3f18e5fcdbmsh6fb3ed9dda5cb0fp1ddeb7jsndf2a5d517035\",\n",
    "        \"X-RapidAPI-Host\": \"aerodatabox.p.rapidapi.com\"\n",
    "    }\n",
    "\n",
    "\n",
    "    response = requests.request(\"GET\", url, headers=headers, params=querystring)\n",
    "    response = response.json()\n",
    "\n",
    "    arrivals = response['arrivals']\n",
    "    arrivals = pd.json_normalize(arrivals)\n",
    "\n",
    "    arrivals = arrivals[['departure.airport.name', 'arrival.scheduledTimeUtc', 'arrival.terminal']]\n",
    "\n",
    "    arrivals.columns = ['airport_name', 'arrival_time_utc', 'terminal']\n",
    "    arrivals['arrival_time_utc'] = pd.to_datetime(arrivals['arrival_time_utc'])\n",
    "\n",
    "    return arrivals"
   ]
  },
  {
   "cell_type": "code",
   "execution_count": 27,
   "metadata": {},
   "outputs": [],
   "source": [
    "def create_connection_string():\n",
    "    host=\"wbs1.cqbmtgw3eh6j.eu-central-1.rds.amazonaws.com\"        # to connect to your local server\n",
    "    port=3306\n",
    "\n",
    "    user=\"root\" \n",
    "    password=\"testdatabase\" # your password!!!!\n",
    "\n",
    "    schema=\"scooters\"   # name of the database you want to use here\n",
    "    con = f'mysql+pymysql://{user}:{password}@{host}:{port}/{schema}'\n",
    "            \n",
    "    return con"
   ]
  },
  {
   "cell_type": "code",
   "execution_count": 30,
   "metadata": {},
   "outputs": [],
   "source": [
    "def get_information_from_cities(con):\n",
    "    cities = pd.read_sql('SELECT * FROM static_cities', con)\n",
    "\n",
    "    for index, row in cities.iterrows():\n",
    "        weather = get_weather(row['city_name'])\n",
    "        weather['city_id'] = row['city_id']\n",
    "        weather['ingested_time'] = datetime.now()\n",
    "\n",
    "        weather.to_sql('weather', con, if_exists='append', index=False)"
   ]
  },
  {
   "cell_type": "code",
   "execution_count": 31,
   "metadata": {},
   "outputs": [],
   "source": [
    "def get_information_from_airports(con):\n",
    "    airports = pd.read_sql('SELECT * FROM static_airports', con)\n",
    "\n",
    "    for index, row in airports.iterrows():\n",
    "        arrivals = get_arrivals(row['airport_icao'])\n",
    "        arrivals['airport_icao'] = row['airport_icao']\n",
    "        arrivals['ingested_time'] = datetime.now()\n",
    "\n",
    "        arrivals.to_sql('arrivals', con, index=False, if_exists='append')"
   ]
  },
  {
   "cell_type": "code",
   "execution_count": 26,
   "metadata": {},
   "outputs": [],
   "source": [
    "def main():\n",
    "    con = create_connection_string()\n",
    "    get_information_from_cities(con)\n",
    "    get_information_from_airports(con)\n"
   ]
  },
  {
   "cell_type": "code",
   "execution_count": 24,
   "metadata": {},
   "outputs": [],
   "source": [
    "main()"
   ]
  },
  {
   "cell_type": "code",
   "execution_count": 25,
   "metadata": {},
   "outputs": [],
   "source": []
  }
 ],
 "metadata": {
  "kernelspec": {
   "display_name": "Python 3",
   "language": "python",
   "name": "python3"
  },
  "language_info": {
   "codemirror_mode": {
    "name": "ipython",
    "version": 3
   },
   "file_extension": ".py",
   "mimetype": "text/x-python",
   "name": "python",
   "nbconvert_exporter": "python",
   "pygments_lexer": "ipython3",
   "version": "3.7.4"
  }
 },
 "nbformat": 4,
 "nbformat_minor": 4
}
